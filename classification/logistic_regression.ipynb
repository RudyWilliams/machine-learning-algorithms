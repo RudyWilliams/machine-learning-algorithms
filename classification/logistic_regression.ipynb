{
 "metadata": {
  "language_info": {
   "codemirror_mode": {
    "name": "ipython",
    "version": 3
   },
   "file_extension": ".py",
   "mimetype": "text/x-python",
   "name": "python",
   "nbconvert_exporter": "python",
   "pygments_lexer": "ipython3",
   "version": "3.8.5-final"
  },
  "orig_nbformat": 2,
  "kernelspec": {
   "name": "Python 3.8.5 64-bit ('venv')",
   "display_name": "Python 3.8.5 64-bit ('venv')",
   "metadata": {
    "interpreter": {
     "hash": "2b4282ae997a9cf6979a5f67542305c73e9a1e98751049002fc1a95988767313"
    }
   }
  }
 },
 "nbformat": 4,
 "nbformat_minor": 2,
 "cells": [
  {
   "cell_type": "code",
   "execution_count": 1,
   "metadata": {},
   "outputs": [],
   "source": [
    "from sklearn.datasets import load_breast_cancer\n",
    "from sklearn.linear_model import LogisticRegression\n",
    "from sklearn.metrics import accuracy_score\n",
    "from sklearn.model_selection import train_test_split, cross_val_score\n",
    "from sklearn.preprocessing import StandardScaler"
   ]
  },
  {
   "cell_type": "code",
   "execution_count": 2,
   "metadata": {},
   "outputs": [],
   "source": [
    "X_df, y_series= load_breast_cancer(return_X_y=True, as_frame=True)\n",
    "X = X_df.values\n",
    "y = y_series.values\n",
    "X_train, X_test, y_train, y_test = train_test_split(X, y, random_state=5, test_size=0.2, stratify=y)"
   ]
  },
  {
   "cell_type": "markdown",
   "metadata": {},
   "source": [
    "Let's first run it without any scaling. We can expect this model to perform worse than the model we will build with scaled data. "
   ]
  },
  {
   "cell_type": "code",
   "execution_count": 3,
   "metadata": {},
   "outputs": [
    {
     "output_type": "stream",
     "name": "stdout",
     "text": [
      "0.9385964912280702\n"
     ]
    }
   ],
   "source": [
    "logit = LogisticRegression()\n",
    "logit.fit(X_train, y_train)\n",
    "y_pred = logit.predict(X_test)\n",
    "accuracy = accuracy_score(y_test, y_pred)\n",
    "print(accuracy)"
   ]
  },
  {
   "cell_type": "markdown",
   "metadata": {},
   "source": [
    "Now let's scale the input data."
   ]
  },
  {
   "cell_type": "code",
   "execution_count": 4,
   "metadata": {},
   "outputs": [
    {
     "output_type": "stream",
     "name": "stdout",
     "text": [
      "[-3.19841833e-15 -1.61653352e-15  3.33957526e-15  4.84594050e-16\n -1.03110438e-15 -1.34117381e-15  6.95414422e-18  5.46083325e-16\n -8.18505825e-15  7.55903276e-15 -4.73613822e-16 -1.73121590e-15\n  1.32079939e-15 -2.09966354e-16 -2.27656721e-16  5.19730779e-17\n  7.61387290e-16 -1.99291133e-15  1.63044181e-15  3.72168718e-16\n  1.03470346e-15  1.80685747e-15 -9.61379938e-16  2.04354238e-16\n  3.49488448e-15  3.58260430e-16  1.73426597e-16  1.32811954e-15\n -2.73871280e-15 -2.70174603e-16]\n[1. 1. 1. 1. 1. 1. 1. 1. 1. 1. 1. 1. 1. 1. 1. 1. 1. 1. 1. 1. 1. 1. 1. 1.\n 1. 1. 1. 1. 1. 1.]\n[-0.09621519  0.06684396 -0.08547477 -0.07798067  0.13537252  0.04897378\n -0.01922362 -0.03745892  0.1375977   0.09793901 -0.07538227  0.03260011\n -0.04514388 -0.04490852 -0.00164389 -0.12694501 -0.15813643 -0.18362065\n  0.17556356 -0.13096238 -0.09187105  0.07984449 -0.07114219 -0.08211845\n  0.20085737  0.10107909  0.03350835  0.01014935  0.24266178  0.09607921]\n[1.03411828 1.15721713 1.04319507 1.03689999 1.15697209 1.05994455\n 1.05335406 1.04925264 0.94684197 0.92404992 1.23131528 1.25391877\n 1.2725346  1.28302175 0.86194886 0.72124073 0.63128333 0.91100424\n 1.11486897 0.58997649 0.98096315 1.07147534 0.99460287 0.91011202\n 1.12238424 1.05592809 1.08951863 1.12712703 0.97872926 0.94551508]\n"
     ]
    }
   ],
   "source": [
    "scaler = StandardScaler()\n",
    "X_train_scaled = scaler.fit_transform(X_train)\n",
    "print(X_train_scaled.mean(axis=0))\n",
    "print(X_train_scaled.std(axis=0))\n",
    "\n",
    "X_test_scaled = scaler.transform(X_test)\n",
    "print(X_test_scaled.mean(axis=0))\n",
    "print(X_test_scaled.std(axis=0))"
   ]
  },
  {
   "cell_type": "code",
   "execution_count": 5,
   "metadata": {},
   "outputs": [
    {
     "output_type": "stream",
     "name": "stdout",
     "text": [
      "0.9824561403508771\n"
     ]
    }
   ],
   "source": [
    "new_logit = LogisticRegression()\n",
    "\n",
    "new_logit.fit(X_train_scaled, y_train)\n",
    "new_y_pred = new_logit.predict(X_test_scaled)\n",
    "new_accuracy = accuracy_score(y_test, new_y_pred)\n",
    "\n",
    "print(new_accuracy)"
   ]
  },
  {
   "cell_type": "code",
   "execution_count": null,
   "metadata": {},
   "outputs": [],
   "source": []
  }
 ]
}